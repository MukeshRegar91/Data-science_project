{
  "nbformat": 4,
  "nbformat_minor": 0,
  "metadata": {
    "colab": {
      "private_outputs": true,
      "provenance": [],
      "collapsed_sections": [
        "x-EpHcCOp1ci",
        "X_VqEhTip1ck",
        "8zGJKyg5p1ck",
        "PVzmfK_Ep1ck",
        "n3dbpmDWp1ck",
        "ylSl6qgtp1ck",
        "ZWILFDl5p1ck",
        "M7G43BXep1ck",
        "Ag9LCva-p1cl",
        "E6MkPsBcp1cl",
        "2cELzS2fp1cl",
        "3MPXvC8up1cl",
        "NC_X3p0fY2L0",
        "UV0SzAkaZNRQ",
        "YPEH6qLeZNRQ",
        "q29F0dvdveiT",
        "EXh0U9oCveiU",
        "22aHeOlLveiV",
        "JcMwzZxoAimU",
        "8G2x9gOozGDZ",
        "gCX9965dhzqZ",
        "gIfDvo9L0UH2"
      ],
      "toc_visible": true,
      "include_colab_link": true
    },
    "kernelspec": {
      "name": "python3",
      "display_name": "Python 3"
    },
    "language_info": {
      "name": "python"
    }
  },
  "cells": [
    {
      "cell_type": "markdown",
      "metadata": {
        "id": "view-in-github",
        "colab_type": "text"
      },
      "source": [
        "<a href=\"https://colab.research.google.com/github/MukeshRegar91/Explorator-Data-Analysis-Global-Terrorism-/blob/main/Explorator_Data_Analysis(Global_Terrorism).ipynb\" target=\"_parent\"><img src=\"https://colab.research.google.com/assets/colab-badge.svg\" alt=\"Open In Colab\"/></a>"
      ]
    },
    {
      "cell_type": "markdown",
      "source": [
        "# **Project Name**    -\n",
        "\n"
      ],
      "metadata": {
        "id": "vncDsAP0Gaoa"
      }
    },
    {
      "cell_type": "markdown",
      "source": [
        "##### **Project Type**    - EDA/Regression/Classification/Unsupervised\n",
        "##### **Contribution**    - Individual/Team\n",
        "##### **Team Member 1 -** Mukesh Regar\n",
        "##### **Team Member 2 -** Awanish pandey\n",
        "##### **Team Member 3 -** Ketan Gandhi\n",
        "##### **Team Member 4 -**"
      ],
      "metadata": {
        "id": "beRrZCGUAJYm"
      }
    },
    {
      "cell_type": "markdown",
      "source": [
        "# **Project Summary -**"
      ],
      "metadata": {
        "id": "FJNUwmbgGyua"
      }
    },
    {
      "cell_type": "markdown",
      "source": [
        "In the era of globalization, terrorism has emerged as a significant threat to international peace, security, and stability. Understanding the patterns, trends, and drivers of global terrorism is essential for policymakers, security agencies, and researchers to develop effective counterterrorism strategies and mitigate the risks posed by terrorist activities. This capstone project aims to explore global terrorism using Python's data manipulation libraries, Pandas and NumPy, to analyze and visualize terrorism-related datasets comprehensively.\n",
        "\n",
        "The project begins by acquiring and preprocessing the Global Terrorism Database (GTD), one of the most comprehensive and reliable sources of terrorism-related information worldwide. Leveraging Pandas and NumPy, the dataset is cleaned, standardized, and structured to facilitate exploratory data analysis (EDA) and insights generation.\n",
        "\n",
        "Through EDA techniques, the project uncovers various facets of global terrorism, including temporal trends, geographical hotspots, attack methods, and target types. Visualizations such as time series plots, heatmaps, and bar charts are employed to elucidate patterns and correlations within the data. By analyzing trends over time, the project aims to identify temporal spikes, recurring patterns, and long-term trends in terrorist activities, shedding light on the evolving nature of the threat landscape.\n",
        "\n",
        "Geospatial analysis is another focal point of the project, utilizing geographic information systems (GIS) and visualization libraries to map the spatial distribution of terrorist incidents across regions and countries. Heatmaps, choropleth maps, and interactive visualizations are employed to highlight terrorism hotspots, conflict zones, and areas of high risk. Through spatial analysis, the project seeks to identify geographical clusters, border regions, and urban centers prone to terrorist attacks, enabling stakeholders to prioritize resource allocation and intervention strategies effectively.\n",
        "\n",
        "Furthermore, the project delves into the modus operandi of terrorist groups, analyzing attack methods, weapon types, and target preferences. By categorizing and aggregating data using Pandas' groupby and aggregation functions, the project elucidates the most common attack tactics employed by terrorist organizations and their preferred targets. Insights derived from this analysis can inform security measures, risk assessments, and threat mitigation strategies tailored to specific threat profiles.\n",
        "\n",
        "In addition to descriptive analytics, the project incorporates predictive modeling techniques to forecast future trends and anticipate emerging threats. Time series forecasting, machine learning algorithms, and predictive analytics are applied to extrapolate patterns from historical data and predict potential trajectories of terrorist activities. By leveraging predictive models, the project aims to provide early warning capabilities, enabling stakeholders to proactively address security challenges and prevent future incidents.\n",
        "\n",
        "Overall, this capstone project on global terrorism showcases the power of data analysis and visualization in understanding complex security issues and informing evidence-based decision-making. By leveraging Python's data manipulation libraries, Pandas and NumPy, the project offers valuable insights into the dynamics, drivers, and implications of global terrorism, empowering stakeholders to devise proactive strategies and safeguard lives, assets, and values in an uncertain world."
      ],
      "metadata": {
        "id": "F6v_1wHtG2nS"
      }
    },
    {
      "cell_type": "markdown",
      "source": [
        "# **GitHub Link -**"
      ],
      "metadata": {
        "id": "w6K7xa23Elo4"
      }
    },
    {
      "cell_type": "code",
      "source": [],
      "metadata": {
        "id": "4-PNGH-4xQrk"
      },
      "execution_count": null,
      "outputs": []
    },
    {
      "cell_type": "markdown",
      "source": [
        "Provide your GitHub Link here."
      ],
      "metadata": {
        "id": "h1o69JH3Eqqn"
      }
    },
    {
      "cell_type": "markdown",
      "source": [
        "# **Problem Statement**\n"
      ],
      "metadata": {
        "id": "yQaldy8SH6Dl"
      }
    },
    {
      "cell_type": "markdown",
      "source": [
        "Given the increasing frequency and severity of terrorist attacks globally, there is a pressing need to develop data-driven strategies for effective risk mitigation and security enhancement. This project aims to conduct an exploratory data analysis (EDA) on terrorist attack data to identify high-risk regions, understand attack patterns, and inform evidence-based decision-making for stakeholders across various sectors."
      ],
      "metadata": {
        "id": "DpeJGUA3kjGy"
      }
    },
    {
      "cell_type": "markdown",
      "source": [
        "#### **Define Your Business Objective?**"
      ],
      "metadata": {
        "id": "PH-0ReGfmX4f"
      }
    },
    {
      "cell_type": "markdown",
      "source": [
        "Data Acquisition and Preprocessing: The primary objective is to acquire and preprocess the Global Terrorism Database (GTD) to ensure data quality, consistency, and usability. This involves cleaning the dataset, handling missing values, standardizing formats, and structuring the data in a suitable format for analysis.\n",
        "\n",
        "Exploratory Data Analysis (EDA): The project aims to conduct comprehensive exploratory data analysis (EDA) to uncover patterns, trends, and insights within the terrorism-related dataset. By utilizing Pandas and NumPy, the objective is to visualize and summarize key attributes of the data, including temporal trends, geographical distribution, attack methods, and target types.\n",
        "\n",
        "Temporal Analysis: One objective is to analyze temporal trends in terrorist activities, identifying spikes, patterns, and long-term trends over time. This involves creating time series plots, trend analyses, and seasonality assessments to understand how terrorist incidents have evolved over the years and whether there are any discernible patterns or cyclical trends.\n",
        "\n",
        "Geospatial Analysis: Another objective is to conduct geospatial analysis to map the spatial distribution of terrorist incidents across regions and countries. By visualizing terrorism hotspots, conflict zones, and high-risk areas, the project aims to identify geographical patterns and clusters that can inform risk assessments, resource allocation, and intervention strategies.\n",
        "\n",
        "Modus Operandi Analysis: The project aims to analyze the modus operandi of terrorist groups, including attack methods, weapon types, and target preferences. By categorizing and aggregating data, the objective is to identify the most common tactics employed by terrorists and understand their motivations and strategic objectives."
      ],
      "metadata": {
        "id": "PhDvGCAqmjP1"
      }
    },
    {
      "cell_type": "markdown",
      "source": [
        "# **General Guidelines** : -  "
      ],
      "metadata": {
        "id": "mDgbUHAGgjLW"
      }
    },
    {
      "cell_type": "markdown",
      "source": [
        "1.   Well-structured, formatted, and commented code is required.\n",
        "2.   Exception Handling, Production Grade Code & Deployment Ready Code will be a plus. Those students will be awarded some additional credits.\n",
        "     \n",
        "     The additional credits will have advantages over other students during Star Student selection.\n",
        "       \n",
        "             [ Note: - Deployment Ready Code is defined as, the whole .ipynb notebook should be executable in one go\n",
        "                       without a single error logged. ]\n",
        "\n",
        "3.   Each and every logic should have proper comments.\n",
        "4. You may add as many number of charts you want. Make Sure for each and every chart the following format should be answered.\n",
        "        \n",
        "\n",
        "```\n",
        "# Chart visualization code\n",
        "```\n",
        "            \n",
        "\n",
        "*   Why did you pick the specific chart?\n",
        "*   What is/are the insight(s) found from the chart?\n",
        "* Will the gained insights help creating a positive business impact?\n",
        "Are there any insights that lead to negative growth? Justify with specific reason.\n",
        "\n",
        "5. You have to create at least 20 logical & meaningful charts having important insights.\n",
        "\n",
        "\n",
        "[ Hints : - Do the Vizualization in  a structured way while following \"UBM\" Rule.\n",
        "\n",
        "U - Univariate Analysis,\n",
        "\n",
        "B - Bivariate Analysis (Numerical - Categorical, Numerical - Numerical, Categorical - Categorical)\n",
        "\n",
        "M - Multivariate Analysis\n",
        " ]\n",
        "\n",
        "\n",
        "\n"
      ],
      "metadata": {
        "id": "ZrxVaUj-hHfC"
      }
    },
    {
      "cell_type": "markdown",
      "source": [
        "# ***Let's Begin !***"
      ],
      "metadata": {
        "id": "O_i_v8NEhb9l"
      }
    },
    {
      "cell_type": "markdown",
      "source": [
        "## ***1. Know Your Data***"
      ],
      "metadata": {
        "id": "HhfV-JJviCcP"
      }
    },
    {
      "cell_type": "markdown",
      "source": [
        "### Import Libraries"
      ],
      "metadata": {
        "id": "Y3lxredqlCYt"
      }
    },
    {
      "cell_type": "code",
      "source": [
        "# Import Libraries\n",
        "import numpy as np\n",
        "import missingno as msno\n",
        "import pandas as pd\n",
        "import matplotlib.pyplot as plt\n",
        "from matplotlib.ticker import FuncFormatter\n",
        "import seaborn as sns\n",
        "from google.colab import files"
      ],
      "metadata": {
        "id": "M8Vqi-pPk-HR"
      },
      "execution_count": null,
      "outputs": []
    },
    {
      "cell_type": "markdown",
      "source": [
        "### Dataset Loading"
      ],
      "metadata": {
        "id": "3RnN4peoiCZX"
      }
    },
    {
      "cell_type": "code",
      "source": [
        "from google.colab import drive\n",
        "drive.mount('/content/drive')"
      ],
      "metadata": {
        "id": "ftjXJez4c_tr"
      },
      "execution_count": null,
      "outputs": []
    },
    {
      "cell_type": "code",
      "source": [
        "# Load Dataset\n",
        "from google.colab import drive\n",
        "df = pd.read_csv('/content/drive/MyDrive/Classroom/Global Terrorism Data.csv', encoding='latin1')"
      ],
      "metadata": {
        "id": "4CkvbW_SlZ_R"
      },
      "execution_count": null,
      "outputs": []
    },
    {
      "cell_type": "markdown",
      "source": [],
      "metadata": {
        "id": "oPeEWabHUKsi"
      }
    },
    {
      "cell_type": "markdown",
      "source": [
        "### Dataset First View"
      ],
      "metadata": {
        "id": "x71ZqKXriCWQ"
      }
    },
    {
      "cell_type": "code",
      "source": [
        "# Dataset First Look\n",
        "df"
      ],
      "metadata": {
        "id": "LWNFOSvLl09H"
      },
      "execution_count": null,
      "outputs": []
    },
    {
      "cell_type": "markdown",
      "source": [
        "### Dataset Rows & Columns count"
      ],
      "metadata": {
        "id": "7hBIi_osiCS2"
      }
    },
    {
      "cell_type": "code",
      "source": [
        "# Dataset Rows & Columns count\n",
        "df.shape"
      ],
      "metadata": {
        "id": "Kllu7SJgmLij"
      },
      "execution_count": null,
      "outputs": []
    },
    {
      "cell_type": "markdown",
      "source": [
        "### Dataset Information"
      ],
      "metadata": {
        "id": "JlHwYmJAmNHm"
      }
    },
    {
      "cell_type": "code",
      "source": [
        "# Dataset Info\n",
        "df.info()"
      ],
      "metadata": {
        "id": "e9hRXRi6meOf"
      },
      "execution_count": null,
      "outputs": []
    },
    {
      "cell_type": "markdown",
      "source": [
        "#### Duplicate Values"
      ],
      "metadata": {
        "id": "35m5QtbWiB9F"
      }
    },
    {
      "cell_type": "code",
      "source": [
        "# Dataset Duplicate Value Count\n",
        "duplicate_count = df.duplicated().sum()\n",
        "print(\"Total duplicate rows in DataFrame:\", duplicate_count)"
      ],
      "metadata": {
        "id": "1sLdpKYkmox0"
      },
      "execution_count": null,
      "outputs": []
    },
    {
      "cell_type": "markdown",
      "source": [
        "We can observe from the above that there are no duplicate values in this set of data."
      ],
      "metadata": {
        "id": "_tuytB45Ze2F"
      }
    },
    {
      "cell_type": "markdown",
      "source": [
        "#### Missing Values/Null Values"
      ],
      "metadata": {
        "id": "PoPl-ycgm1ru"
      }
    },
    {
      "cell_type": "code",
      "source": [
        "df.head()"
      ],
      "metadata": {
        "id": "-VQlmZYy9g76"
      },
      "execution_count": null,
      "outputs": []
    },
    {
      "cell_type": "code",
      "source": [
        "# Missing Values/Null Values Count\n",
        "df.isnull().sum()\n"
      ],
      "metadata": {
        "id": "GgHWkxvamxVg"
      },
      "execution_count": null,
      "outputs": []
    },
    {
      "cell_type": "code",
      "source": [
        "df.drop(['related'], axis=1 , inplace = True)"
      ],
      "metadata": {
        "id": "3L4W4ZdMC3V2"
      },
      "execution_count": null,
      "outputs": []
    },
    {
      "cell_type": "code",
      "source": [
        "df.drop(['approxdate'], axis=1 , inplace = True)\n"
      ],
      "metadata": {
        "id": "SboJ2qrSwE0v"
      },
      "execution_count": null,
      "outputs": []
    },
    {
      "cell_type": "code",
      "source": [
        "df.isnull().sum()"
      ],
      "metadata": {
        "id": "0_Dr4SRgw_lS"
      },
      "execution_count": null,
      "outputs": []
    },
    {
      "cell_type": "code",
      "source": [
        "df.shape"
      ],
      "metadata": {
        "id": "lOx07GkumEQ8"
      },
      "execution_count": null,
      "outputs": []
    },
    {
      "cell_type": "code",
      "source": [
        "year_most_attacks = df['iyear'].value_counts().idxmax()\n",
        "print(f\"The year with the highest number of attacks is {year_most_attacks}.\")\n"
      ],
      "metadata": {
        "id": "KYgFeGFeQOYm"
      },
      "execution_count": null,
      "outputs": []
    },
    {
      "cell_type": "code",
      "source": [
        "top_terrorist_groups = df['gname'].value_counts().head(5)\n",
        "print(\"Top 5 most active terrorist groups:\")\n",
        "print(top_terrorist_groups)\n"
      ],
      "metadata": {
        "id": "sjEgA9RRQ8R_"
      },
      "execution_count": null,
      "outputs": []
    },
    {
      "cell_type": "code",
      "source": [
        "hostage_outcomes = df['hostkidoutcome_txt'].value_counts()\n",
        "print(\"Hostage outcomes:\")\n",
        "print(hostage_outcomes)\n"
      ],
      "metadata": {
        "id": "-mA_FcLNRPf2"
      },
      "execution_count": null,
      "outputs": []
    },
    {
      "cell_type": "markdown",
      "source": [
        "### What did you know about your dataset?"
      ],
      "metadata": {
        "id": "H0kj-8xxnORC"
      }
    },
    {
      "cell_type": "markdown",
      "source": [
        "This script gives you a glimpse of the first few rows, the number of rows and columns, and information about the dataset, including data types and non-null counts."
      ],
      "metadata": {
        "id": "gfoNAAC-nUe_"
      }
    },
    {
      "cell_type": "markdown",
      "source": [
        "## ***2. Understanding Your Variables***"
      ],
      "metadata": {
        "id": "nA9Y7ga8ng1Z"
      }
    },
    {
      "cell_type": "code",
      "source": [
        "# Dataset Columns\n",
        "df.columns"
      ],
      "metadata": {
        "id": "j7xfkqrt5Ag5"
      },
      "execution_count": null,
      "outputs": []
    },
    {
      "cell_type": "code",
      "source": [
        "\n",
        "df.rename(columns={'iyear':'Year','imonth':'Month','iday':'Day','country_txt':'Country','region_txt':'Region','attacktype1_txt':'AttackType','target1':'Target','nkill':'Killed','nwound':'Wounded','summary':'Summary','gname':'Group','targtype1_txt':'Target_type','weaptype1_txt':'Weapon_type','motive':'Motive'},inplace=True)\n",
        "df=df[['Year','Month','Day','Country','Region','city','latitude','longitude','AttackType','Killed','Wounded','Target','Summary','Group','Target_type','Weapon_type','Motive']]\n",
        "df['casualities']=df['Killed']+df['Wounded']\n",
        "df.head(3)"
      ],
      "metadata": {
        "id": "oLr53xuUR1b_"
      },
      "execution_count": null,
      "outputs": []
    },
    {
      "cell_type": "code",
      "source": [
        "# Dataset Describe\n",
        "df.describe()"
      ],
      "metadata": {
        "id": "DnOaZdaE5Q5t"
      },
      "execution_count": null,
      "outputs": []
    },
    {
      "cell_type": "markdown",
      "source": [
        "### Variables Description"
      ],
      "metadata": {
        "id": "PBTbrJXOngz2"
      }
    },
    {
      "cell_type": "markdown",
      "source": [
        "In defining and describing variables within a dataset, we covered several key aspects. Initially, we defined the dataset columns, providing clarity on the different attributes or features present. Describing the dataset involved articulating its overall characteristics and potential use cases. Converting strings into numerical formats, specifically float or integer types, was addressed to ensure compatibility for various analyses. Installation of datasets was discussed as an essential step to access and work with specific data. The description of numerical values within the dataset allowed us to understand the quantitative aspects of the information. Lastly, the concept of core values was introduced, emphasizing key attributes or variables that play a central role in the dataset's overall significance. These considerations collectively contribute to a comprehensive understanding of the variables in a dataset.Answer Here"
      ],
      "metadata": {
        "id": "aJV4KIxSnxay"
      }
    },
    {
      "cell_type": "markdown",
      "source": [
        "### Check Unique Values for each variable."
      ],
      "metadata": {
        "id": "u3PMJOP6ngxN"
      }
    },
    {
      "cell_type": "code",
      "source": [
        "# Check Unique Values for each variable.\n",
        "df.nunique()"
      ],
      "metadata": {
        "id": "zms12Yq5n-jE"
      },
      "execution_count": null,
      "outputs": []
    },
    {
      "cell_type": "markdown",
      "source": [
        "## 3. ***Data Wrangling***"
      ],
      "metadata": {
        "id": "dauF4eBmngu3"
      }
    },
    {
      "cell_type": "markdown",
      "source": [
        "### Data Wrangling Code"
      ],
      "metadata": {
        "id": "bKJF3rekwFvQ"
      }
    },
    {
      "cell_type": "code",
      "source": [
        "df = pd.DataFrame(df)\n",
        "df"
      ],
      "metadata": {
        "id": "IYtKD9PiQNFI"
      },
      "execution_count": null,
      "outputs": []
    },
    {
      "cell_type": "code",
      "source": [
        "df.columns"
      ],
      "metadata": {
        "id": "_RlbAhbgP9zY"
      },
      "execution_count": null,
      "outputs": []
    },
    {
      "cell_type": "markdown",
      "source": [
        "### What all manipulations have you done and insights you found?"
      ],
      "metadata": {
        "id": "MSa1f5Uengrz"
      }
    },
    {
      "cell_type": "markdown",
      "source": [
        "Answer Here."
      ],
      "metadata": {
        "id": "LbyXE7I1olp8"
      }
    },
    {
      "cell_type": "markdown",
      "source": [
        "## ***4. Data Vizualization, Storytelling & Experimenting with charts : Understand the relationships between variables***"
      ],
      "metadata": {
        "id": "GF8Ens_Soomf"
      }
    },
    {
      "cell_type": "markdown",
      "source": [
        "#### Chart - 1"
      ],
      "metadata": {
        "id": "0wOQAZs5pc--"
      }
    },
    {
      "cell_type": "code",
      "source": [
        "# Chart - 1 visualization code"
      ],
      "metadata": {
        "id": "7v_ESjsspbW7"
      },
      "execution_count": null,
      "outputs": []
    },
    {
      "cell_type": "markdown",
      "source": [
        "##### 1. Why did you pick the specific chart?"
      ],
      "metadata": {
        "id": "K5QZ13OEpz2H"
      }
    },
    {
      "cell_type": "markdown",
      "source": [],
      "metadata": {
        "id": "XESiWehPqBRc"
      }
    },
    {
      "cell_type": "markdown",
      "source": [
        "##### 2. What is/are the insight(s) found from the chart?"
      ],
      "metadata": {
        "id": "lQ7QKXXCp7Bj"
      }
    },
    {
      "cell_type": "markdown",
      "source": [],
      "metadata": {
        "id": "C_j1G7yiqdRP"
      }
    },
    {
      "cell_type": "markdown",
      "source": [
        "##### 3. Will the gained insights help creating a positive business impact?\n",
        "Are there any insights that lead to negative growth? Justify with specific reason."
      ],
      "metadata": {
        "id": "448CDAPjqfQr"
      }
    },
    {
      "cell_type": "markdown",
      "source": [],
      "metadata": {
        "id": "3cspy4FjqxJW"
      }
    },
    {
      "cell_type": "markdown",
      "source": [
        "#### Chart - 2"
      ],
      "metadata": {
        "id": "KSlN3yHqYklG"
      }
    },
    {
      "cell_type": "code",
      "source": [
        "# Chart - 2 visualization code\n",
        "top_terrorist_groups.plot(kind='bar')\n",
        "plt.title('Top 5 Most Active Terrorist Groups')\n",
        "plt.xlabel('Terrorist Group')\n",
        "plt.ylabel('Number of Attacks')\n",
        "plt.show()"
      ],
      "metadata": {
        "id": "R4YgtaqtYklH"
      },
      "execution_count": null,
      "outputs": []
    },
    {
      "cell_type": "markdown",
      "source": [
        "##### 1. Why did you pick the specific chart?"
      ],
      "metadata": {
        "id": "t6dVpIINYklI"
      }
    },
    {
      "cell_type": "markdown",
      "source": [
        "A bar chart is a good choice for comparing the number of attacks for each terrorist group."
      ],
      "metadata": {
        "id": "5aaW0BYyYklI"
      }
    },
    {
      "cell_type": "markdown",
      "source": [
        "##### 2. What is/are the insight(s) found from the chart?"
      ],
      "metadata": {
        "id": "ijmpgYnKYklI"
      }
    },
    {
      "cell_type": "markdown",
      "source": [
        "The chart shows that the top 5 most active terrorist groups are responsible for a significant number of attacks."
      ],
      "metadata": {
        "id": "PSx9atu2YklI"
      }
    },
    {
      "cell_type": "markdown",
      "source": [
        "##### 3. Will the gained insights help creating a positive business impact?\n",
        "Are there any insights that lead to negative growth? Justify with specific reason."
      ],
      "metadata": {
        "id": "-JiQyfWJYklI"
      }
    },
    {
      "cell_type": "markdown",
      "source": [
        "The chart shows that the top 5 most active terrorist groups are responsible for a significant number of attacks.The gained insights may help in creating a positive business impact depending on the context."
      ],
      "metadata": {
        "id": "BcBbebzrYklV"
      }
    },
    {
      "cell_type": "markdown",
      "source": [
        "#### Chart - 3"
      ],
      "metadata": {
        "id": "EM7whBJCYoAo"
      }
    },
    {
      "cell_type": "code",
      "source": [
        "# Chart - 3 visualization code\n",
        "plt.subplots(figsize=(10,6))\n",
        "sns.countplot(x='Year', data=df, hue='Year', edgecolor=sns.color_palette('dark', 7), legend=False)\n",
        "plt.xticks(rotation=90)\n",
        "plt.title('Number Of Terrorist Activities Each Year')\n",
        "plt.show()\n"
      ],
      "metadata": {
        "id": "t6GMdE67YoAp"
      },
      "execution_count": null,
      "outputs": []
    },
    {
      "cell_type": "markdown",
      "source": [
        "##### 1. Why did you pick the specific chart?"
      ],
      "metadata": {
        "id": "fge-S5ZAYoAp"
      }
    },
    {
      "cell_type": "markdown",
      "source": [
        "The specific chart chosen is a countplot. Countplots are suitable for visualizing the frequency distribution of a categorical variable, particularly when comparing across different categories or groups. In this case, the countplot is used to visualize the number of terrorist activities each year, allowing for easy comparison of activity levels over time."
      ],
      "metadata": {
        "id": "5dBItgRVYoAp"
      }
    },
    {
      "cell_type": "markdown",
      "source": [
        "##### 2. What is/are the insight(s) found from the chart?"
      ],
      "metadata": {
        "id": "85gYPyotYoAp"
      }
    },
    {
      "cell_type": "markdown",
      "source": [
        "The insight from the chart is the trend in the number of terrorist activities over the years. By examining the height of the bars for each year, we can observe whether there are any notable increases or decreases in terrorist activity over time. This can help identify potential patterns or trends in terrorist activities."
      ],
      "metadata": {
        "id": "4jstXR6OYoAp"
      }
    },
    {
      "cell_type": "markdown",
      "source": [
        "##### 3. Will the gained insights help creating a positive business impact?\n",
        "Are there any insights that lead to negative growth? Justify with specific reason."
      ],
      "metadata": {
        "id": "RoGjAbkUYoAp"
      }
    },
    {
      "cell_type": "markdown",
      "source": [
        "The gained insights may help in creating a positive business impact, depending on the context. For example, if the business operates in regions affected by terrorist activities, understanding the trend in activity levels over time can inform risk management strategies and security measures. By identifying periods of increased activity, businesses can allocate resources more effectively to mitigate the potential impact of terrorist incidents."
      ],
      "metadata": {
        "id": "zfJ8IqMcYoAp"
      }
    },
    {
      "cell_type": "markdown",
      "source": [
        "#### Chart - 4"
      ],
      "metadata": {
        "id": "4Of9eVA-YrdM"
      }
    },
    {
      "cell_type": "code",
      "source": [
        "# Chart - 4 visualization code\n",
        "plt.subplots(figsize=(10,6))\n",
        "sns.countplot(x='AttackType',data=df,palette='inferno',order=df['AttackType'].value_counts().index)\n",
        "plt.xticks(rotation=90)\n",
        "plt.title('Attacking Methods by Terrorists')\n",
        "plt.show()\n"
      ],
      "metadata": {
        "id": "irlUoxc8YrdO"
      },
      "execution_count": null,
      "outputs": []
    },
    {
      "cell_type": "markdown",
      "source": [
        "##### 1. Why did you pick the specific chart?"
      ],
      "metadata": {
        "id": "iky9q4vBYrdO"
      }
    },
    {
      "cell_type": "markdown",
      "source": [
        "The specific chart chosen is a countplot. Countplots are suitable for visualizing the frequency distribution of a categorical variable, particularly when comparing across different categories. In this case, the countplot is used to visualize the distribution of different attack methods used by terrorists, providing insight into the prevalence of each attack type."
      ],
      "metadata": {
        "id": "aJRCwT6DYrdO"
      }
    },
    {
      "cell_type": "markdown",
      "source": [
        "##### 2. What is/are the insight(s) found from the chart?"
      ],
      "metadata": {
        "id": "F6T5p64dYrdO"
      }
    },
    {
      "cell_type": "markdown",
      "source": [
        "The insight from the chart is the distribution of attacking methods used by terrorists. Each bar represents a different attack type, and the height of the bar corresponds to the frequency or number of occurrences of that attack type. By examining the heights of the bars, we can identify which attack methods are most commonly used by terrorists."
      ],
      "metadata": {
        "id": "Xx8WAJvtYrdO"
      }
    },
    {
      "cell_type": "markdown",
      "source": [
        "##### 3. Will the gained insights help creating a positive business impact?\n",
        "Are there any insights that lead to negative growth? Justify with specific reason."
      ],
      "metadata": {
        "id": "y-Ehk30pYrdP"
      }
    },
    {
      "cell_type": "markdown",
      "source": [
        "The gained insights may help in creating a positive business impact, depending on the context. For example, if the business operates in regions affected by terrorist activities, understanding the prevalence of different attack methods can inform risk management strategies and security measures. By identifying the most common attack methods, businesses can prioritize resources and implement targeted security measures to mitigate the risks associated with those methods."
      ],
      "metadata": {
        "id": "jLNxxz7MYrdP"
      }
    },
    {
      "cell_type": "markdown",
      "source": [
        "#### Chart - 5"
      ],
      "metadata": {
        "id": "bamQiAODYuh1"
      }
    },
    {
      "cell_type": "code",
      "source": [
        "# Chart - 5 visualization code\n",
        "plt.subplots(figsize=(15,6))\n",
        "sns.countplot(df['Target_type'],palette='inferno',order=df['Target_type'].value_counts().index)\n",
        "plt.xticks(rotation=90)\n",
        "plt.title('Favorite Targets')\n",
        "plt.show()\n"
      ],
      "metadata": {
        "id": "TIJwrbroYuh3"
      },
      "execution_count": null,
      "outputs": []
    },
    {
      "cell_type": "markdown",
      "source": [
        "##### 1. Why did you pick the specific chart?"
      ],
      "metadata": {
        "id": "QHF8YVU7Yuh3"
      }
    },
    {
      "cell_type": "markdown",
      "source": [
        "The specific chart chosen here is a countplot using seaborn's countplot function. This choice is suitable for visualizing the frequency distribution of categorical data, which seems to be the case with the variable 'Target_type'. The countplot provides a clear overview of the distribution of different target types in the dataset."
      ],
      "metadata": {
        "id": "dcxuIMRPYuh3"
      }
    },
    {
      "cell_type": "markdown",
      "source": [
        "##### 2. What is/are the insight(s) found from the chart?"
      ],
      "metadata": {
        "id": "GwzvFGzlYuh3"
      }
    },
    {
      "cell_type": "markdown",
      "source": [
        "The insights from the chart include the frequency of each target type in the dataset. By observing the heights of the bars, we can quickly identify which target types are more common or prevalent compared to others."
      ],
      "metadata": {
        "id": "uyqkiB8YYuh3"
      }
    },
    {
      "cell_type": "markdown",
      "source": [
        "##### 3. Will the gained insights help creating a positive business impact?\n",
        "Are there any insights that lead to negative growth? Justify with specific reason."
      ],
      "metadata": {
        "id": "qYpmQ266Yuh3"
      }
    },
    {
      "cell_type": "markdown",
      "source": [
        "The gained insights could potentially lead to positive business impacts by helping stakeholders understand which types of targets are most frequently encountered. This information could inform decision-making processes related to resource allocation, risk assessment, and strategy development."
      ],
      "metadata": {
        "id": "_WtzZ_hCYuh4"
      }
    },
    {
      "cell_type": "markdown",
      "source": [
        "#### Chart - 6"
      ],
      "metadata": {
        "id": "OH-pJp9IphqM"
      }
    },
    {
      "cell_type": "code",
      "source": [
        "# Chart - 6 visualization code\n",
        "terror_region=pd.crosstab(df.Year,df.Region)\n",
        "terror_region.plot(color=sns.color_palette('Set2',12))\n",
        "fig=plt.gcf()\n",
        "fig.set_size_inches(10,6)\n",
        "plt.show()\n"
      ],
      "metadata": {
        "id": "kuRf4wtuphqN"
      },
      "execution_count": null,
      "outputs": []
    },
    {
      "cell_type": "markdown",
      "source": [
        "##### 1. Why did you pick the specific chart?"
      ],
      "metadata": {
        "id": "bbFf2-_FphqN"
      }
    },
    {
      "cell_type": "markdown",
      "source": [
        "The chosen chart is a line plot generated from a cross-tabulation of years and regions, indicating the frequency of terrorist incidents over time across different regions. This chart is suitable for visualizing trends and patterns in the occurrence of terrorist incidents across various regions over the years."
      ],
      "metadata": {
        "id": "loh7H2nzphqN"
      }
    },
    {
      "cell_type": "markdown",
      "source": [
        "##### 2. What is/are the insight(s) found from the chart?"
      ],
      "metadata": {
        "id": "_ouA3fa0phqN"
      }
    },
    {
      "cell_type": "markdown",
      "source": [
        "The insights from the chart include identifying trends in terrorist activities across different regions over time. By examining the slopes and patterns of the lines, we can discern whether terrorist incidents are increasing, decreasing, or remaining relatively stable in specific regions over the years. Additionally, we can compare the trajectories of different regions to understand relative changes in terrorist activity levels."
      ],
      "metadata": {
        "id": "VECbqPI7phqN"
      }
    },
    {
      "cell_type": "markdown",
      "source": [
        "##### 3. Will the gained insights help creating a positive business impact?\n",
        "Are there any insights that lead to negative growth? Justify with specific reason."
      ],
      "metadata": {
        "id": "Seke61FWphqN"
      }
    },
    {
      "cell_type": "markdown",
      "source": [
        "The gained insights could potentially help in creating a positive business impact by informing risk management strategies, resource allocation decisions, and crisis preparedness plans. Understanding the temporal and regional dynamics of terrorist incidents can enable businesses to better anticipate and mitigate security risks, safeguarding personnel, assets, and operations.\n",
        "Regarding insights leading to negative growth, if the line plots for certain regions consistently show a significant upward trend in terrorist incidents over time, it could indicate a heightened security threat and potentially lead to negative growth. Increased terrorist activity in key regions may disrupt business operations, deter investment, and undermine consumer confidence, thereby impacting economic growth and stability in those areas."
      ],
      "metadata": {
        "id": "DW4_bGpfphqN"
      }
    },
    {
      "cell_type": "markdown",
      "source": [
        "#### Chart - 7"
      ],
      "metadata": {
        "id": "PIIx-8_IphqN"
      }
    },
    {
      "cell_type": "code",
      "source": [
        "df.columns"
      ],
      "metadata": {
        "id": "3YvRiczmag0l"
      },
      "execution_count": null,
      "outputs": []
    },
    {
      "cell_type": "code",
      "source": [
        "# Chart - 7 visualization code\n",
        "# Aggregate the data to calculate the total number of attacks per country\n",
        "country_attacks = df.groupby('Country')['AttackType'].count().sort_values(ascending=False)\n",
        "\n",
        "# Select the top 10 countries\n",
        "top_10_countries = country_attacks.head(10)\n",
        "\n",
        "# Filter the DataFrame to include only the data for the top 10 countries\n",
        "df_top_10_countries = df[df['Country'].isin(top_10_countries.index)]\n",
        "\n",
        "# Create the horizontal stacked bar plot\n",
        "pd.crosstab(df_top_10_countries['Country'], df_top_10_countries['AttackType']).plot.barh(\n",
        "    stacked=True, width=1, color=sns.color_palette('RdYlGn', 10))\n",
        "\n",
        "# Set the size of the figure\n",
        "fig = plt.gcf()\n",
        "fig.set_size_inches(10, 8)\n",
        "\n",
        "# Show the plot\n",
        "plt.show()\n"
      ],
      "metadata": {
        "id": "lqAIGUfyphqO"
      },
      "execution_count": null,
      "outputs": []
    },
    {
      "cell_type": "markdown",
      "source": [
        "##### 1. Why did you pick the specific chart?"
      ],
      "metadata": {
        "id": "t27r6nlMphqO"
      }
    },
    {
      "cell_type": "markdown",
      "source": [
        "The chosen chart is a horizontal stacked bar plot, which is suitable for visualizing the distribution of attack types across different countries. This chart allows for easy comparison of the composition of attack types within each country, as well as comparison of the total number of attacks between countries."
      ],
      "metadata": {
        "id": "iv6ro40sphqO"
      }
    },
    {
      "cell_type": "markdown",
      "source": [
        "##### 2. What is/are the insight(s) found from the chart?"
      ],
      "metadata": {
        "id": "r2jJGEOYphqO"
      }
    },
    {
      "cell_type": "markdown",
      "source": [
        "The insights from the chart include identifying the predominant types of attacks occurring in the top 10 countries with the highest number of attacks. By examining the length and color composition of the bars, we can discern which types of attacks are most prevalent in each country and how they contribute to the total number of attacks. This information can help in understanding the nature and severity of security threats in each country."
      ],
      "metadata": {
        "id": "Po6ZPi4hphqO"
      }
    },
    {
      "cell_type": "markdown",
      "source": [
        "##### 3. Will the gained insights help creating a positive business impact?\n",
        "Are there any insights that lead to negative growth? Justify with specific reason."
      ],
      "metadata": {
        "id": "b0JNsNcRphqO"
      }
    },
    {
      "cell_type": "markdown",
      "source": [
        "The gained insights could potentially help in creating a positive business impact by informing risk management strategies, security measures, and contingency planning for businesses operating or having interests in the affected countries. Understanding the distribution of attack types can enable businesses to prioritize security measures and allocate resources effectively to mitigate specific types of threats. By proactively addressing security risks, businesses can enhance the safety of their personnel, assets, and operations, thereby fostering a conducive environment for growth and sustainability.\n",
        "Regarding insights that could lead to negative growth, if the stacked bar plot reveals a disproportionate prevalence of high-impact or particularly disruptive attack types (such as bombings or armed assaults) in certain countries, it could signal heightened security risks and potential negative impacts on business operations and investment activities in those regions."
      ],
      "metadata": {
        "id": "xvSq8iUTphqO"
      }
    },
    {
      "cell_type": "markdown",
      "source": [
        "#### Chart - 8"
      ],
      "metadata": {
        "id": "BZR9WyysphqO"
      }
    },
    {
      "cell_type": "code",
      "source": [
        "# Assuming df is your DataFrame containing the data\n",
        "# Aggregate the data to calculate the total number of attacks per country\n",
        "country_attacks = df.groupby('Country')['AttackType'].count().sort_values(ascending=False)\n",
        "\n",
        "# Select the top 10 countries\n",
        "top_10_countries = country_attacks.head(10)\n",
        "\n",
        "# Filter the DataFrame to include only the data for the top 10 countries\n",
        "df_top_10_countries = df[df['Country'].isin(top_10_countries.index)]\n",
        "\n",
        "# Create the violin plot\n",
        "sns.violinplot(x='AttackType', y='Country', data=df_top_10_countries,\n",
        "               palette='RdYlGn', width=1)\n",
        "\n",
        "# Rotate the x-axis labels\n",
        "plt.xticks(rotation=70)\n",
        "\n",
        "# Set the size of the figure\n",
        "fig = plt.gcf()\n",
        "fig.set_size_inches(10, 8)\n",
        "\n",
        "# Show the plot\n",
        "plt.show()\n"
      ],
      "metadata": {
        "id": "TdPTWpAVphqO"
      },
      "execution_count": null,
      "outputs": []
    },
    {
      "cell_type": "markdown",
      "source": [
        "##### 1. Why did you pick the specific chart?"
      ],
      "metadata": {
        "id": "jj7wYXLtphqO"
      }
    },
    {
      "cell_type": "markdown",
      "source": [
        "The chosen chart is a violin plot, which is a variation of a box plot that also shows the probability density of the data at different values. This chart is suitable for visualizing the distribution of attack types across different countries, providing insights into both the central tendency and the spread of the data."
      ],
      "metadata": {
        "id": "Ob8u6rCTphqO"
      }
    },
    {
      "cell_type": "markdown",
      "source": [
        "##### 2. What is/are the insight(s) found from the chart?"
      ],
      "metadata": {
        "id": "eZrbJ2SmphqO"
      }
    },
    {
      "cell_type": "markdown",
      "source": [
        "The insights from the chart include understanding the distribution of different attack types within the top 10 countries with the highest number of attacks. Each violin plot represents the probability density of attack types for a specific country. By examining the width and shape of the violins, as well as the distribution of data points within them, we can discern variations in the prevalence and diversity of attack types across different countries."
      ],
      "metadata": {
        "id": "mZtgC_hjphqO"
      }
    },
    {
      "cell_type": "markdown",
      "source": [
        "##### 3. Will the gained insights help creating a positive business impact?\n",
        "Are there any insights that lead to negative growth? Justify with specific reason."
      ],
      "metadata": {
        "id": "rFu4xreNphqO"
      }
    },
    {
      "cell_type": "markdown",
      "source": [
        "The gained insights could help in creating a positive business impact by informing risk management strategies, security measures, and contingency planning for businesses operating or having interests in the affected countries. Understanding the distribution of attack types can enable businesses to tailor their security measures and response protocols to address the specific types of threats prevalent in each country. By proactively mitigating security risks, businesses can enhance the safety of their personnel, assets, and operations, contributing to a conducive environment for growth and sustainability.\n",
        "Regarding insights that could lead to negative growth, if the violin plots reveal a consistently high probability density or a pronounced peak at particularly disruptive or high-impact attack types (such as bombings or armed assaults) in certain countries, it could indicate heightened security risks and potential negative impacts on business operations and investment activities in those regions."
      ],
      "metadata": {
        "id": "ey_0qi68phqO"
      }
    },
    {
      "cell_type": "markdown",
      "source": [
        "#### Chart - 9"
      ],
      "metadata": {
        "id": "YJ55k-q6phqO"
      }
    },
    {
      "cell_type": "code",
      "source": [
        "# Chart - 9 visualization code\n",
        "country_attacks = df.groupby('Country')['AttackType'].count().sort_values(ascending=False)\n",
        "\n",
        "# Select the top 10 countries\n",
        "top_10_countries = country_attacks.head(10)\n",
        "\n",
        "# Filter the DataFrame to include only the data for the top 10 countries\n",
        "df_top_10_countries = df[df['Country'].isin(top_10_countries.index)]\n",
        "\n",
        "# Create the box plot\n",
        "sns.boxplot(x='AttackType', y='Country', data=df_top_10_countries,\n",
        "            palette='RdYlGn')\n",
        "\n",
        "# Rotate the x-axis labels\n",
        "plt.xticks(rotation=80)\n",
        "\n",
        "# Set the size of the figure\n",
        "fig = plt.gcf()\n",
        "fig.set_size_inches(7, 5)\n",
        "\n",
        "# Show the plot\n",
        "plt.show()\n"
      ],
      "metadata": {
        "id": "B2aS4O1ophqO"
      },
      "execution_count": null,
      "outputs": []
    },
    {
      "cell_type": "markdown",
      "source": [
        "##### 1. Why did you pick the specific chart?"
      ],
      "metadata": {
        "id": "gCFgpxoyphqP"
      }
    },
    {
      "cell_type": "markdown",
      "source": [
        "The chosen chart is a box plot, which is suitable for visualizing the distribution of attack types across different countries, particularly when comparing multiple categories of data (attack types) within each country. Box plots provide insights into the central tendency, spread, and variability of the data, making them useful for identifying outliers and understanding the overall distribution of values."
      ],
      "metadata": {
        "id": "TVxDimi2phqP"
      }
    },
    {
      "cell_type": "markdown",
      "source": [
        "##### 2. What is/are the insight(s) found from the chart?"
      ],
      "metadata": {
        "id": "OVtJsKN_phqQ"
      }
    },
    {
      "cell_type": "markdown",
      "source": [
        "The insights from the chart include understanding the distribution of different attack types within the top 10 countries with the highest number of attacks. Each box plot represents the distribution of attack types for a specific country, showing the median, quartiles, and potential outliers. By examining the box plots, we can identify variations in the frequency and variability of attack types across different countries."
      ],
      "metadata": {
        "id": "ngGi97qjphqQ"
      }
    },
    {
      "cell_type": "markdown",
      "source": [
        "##### 3. Will the gained insights help creating a positive business impact?\n",
        "Are there any insights that lead to negative growth? Justify with specific reason."
      ],
      "metadata": {
        "id": "lssrdh5qphqQ"
      }
    },
    {
      "cell_type": "markdown",
      "source": [
        "The gained insights could help in creating a positive business impact by informing risk management strategies, security measures, and contingency planning for businesses operating or having interests in the affected countries. Understanding the distribution of attack types can enable businesses to prioritize security resources and implement targeted measures to mitigate specific types of threats prevalent in each country. By proactively addressing security risks, businesses can enhance the safety of their personnel, assets, and operations, contributing to a conducive environment for growth and sustainability.\n",
        "Regarding insights that could lead to negative growth, if the box plots reveal a consistently high variability or a pronounced skewness towards particularly disruptive or high-impact attack types (such as bombings or armed assaults) in certain countries, it could indicate heightened security risks and potential negative impacts on business operations and investment activities in those regions.\n",
        "\n",
        "\n",
        "\n"
      ],
      "metadata": {
        "id": "tBpY5ekJphqQ"
      }
    },
    {
      "cell_type": "markdown",
      "source": [
        "#### Chart - 10"
      ],
      "metadata": {
        "id": "U2RJ9gkRphqQ"
      }
    },
    {
      "cell_type": "code",
      "source": [
        "plt.figure(figsize=(10, 6))\n",
        "attack_type_counts = df['AttackType'].value_counts()\n",
        "plt.pie(attack_type_counts, labels=attack_type_counts.index, autopct='%1.1f%%', startangle=90)\n",
        "plt.title('Distribution of Attack Types')\n",
        "plt.show()"
      ],
      "metadata": {
        "id": "jCxrrizYLdxP"
      },
      "execution_count": null,
      "outputs": []
    },
    {
      "cell_type": "markdown",
      "source": [
        "##### 1. Why did you pick the specific chart?"
      ],
      "metadata": {
        "id": "1M8mcRywphqQ"
      }
    },
    {
      "cell_type": "markdown",
      "source": [
        "The specific chart chosen is a pie chart. Pie charts are commonly used to visualize the distribution or composition of a categorical variable, such as different types of attack in this case. The advantage of using a pie chart is that it allows for a clear comparison of the proportions of each category relative to the whole."
      ],
      "metadata": {
        "id": "8agQvks0phqQ"
      }
    },
    {
      "cell_type": "markdown",
      "source": [
        "##### 2. What is/are the insight(s) found from the chart?"
      ],
      "metadata": {
        "id": "tgIPom80phqQ"
      }
    },
    {
      "cell_type": "markdown",
      "source": [
        "The insight from the chart is the distribution of attack types. Each slice of the pie represents a different attack type, and the size of each slice corresponds to the proportion of attacks attributed to that type. From the chart, we can easily see which attack types are most prevalent and which are less common."
      ],
      "metadata": {
        "id": "Qp13pnNzphqQ"
      }
    },
    {
      "cell_type": "markdown",
      "source": [
        "##### 3. Will the gained insights help creating a positive business impact?\n",
        "Are there any insights that lead to negative growth? Justify with specific reason."
      ],
      "metadata": {
        "id": "JMzcOPDDphqR"
      }
    },
    {
      "cell_type": "markdown",
      "source": [
        "The gained insights may help in creating a positive business impact depending on the context. For example, if the business is in the cybersecurity sector, understanding the distribution of attack types can inform the development of more effective defense strategies. By focusing resources on mitigating the most common attack types, the business can enhance its security posture and protect against potential threats.Answer Here"
      ],
      "metadata": {
        "id": "R4Ka1PC2phqR"
      }
    },
    {
      "cell_type": "markdown",
      "source": [
        "#### Chart - 11"
      ],
      "metadata": {
        "id": "x-EpHcCOp1ci"
      }
    },
    {
      "cell_type": "code",
      "source": [
        "# Chart - 11 visualization code"
      ],
      "metadata": {
        "id": "mAQTIvtqp1cj"
      },
      "execution_count": null,
      "outputs": []
    },
    {
      "cell_type": "markdown",
      "source": [
        "##### 1. Why did you pick the specific chart?"
      ],
      "metadata": {
        "id": "X_VqEhTip1ck"
      }
    },
    {
      "cell_type": "markdown",
      "source": [
        "Answer Here."
      ],
      "metadata": {
        "id": "-vsMzt_np1ck"
      }
    },
    {
      "cell_type": "markdown",
      "source": [
        "##### 2. What is/are the insight(s) found from the chart?"
      ],
      "metadata": {
        "id": "8zGJKyg5p1ck"
      }
    },
    {
      "cell_type": "markdown",
      "source": [
        "Answer Here"
      ],
      "metadata": {
        "id": "ZYdMsrqVp1ck"
      }
    },
    {
      "cell_type": "markdown",
      "source": [
        "##### 3. Will the gained insights help creating a positive business impact?\n",
        "Are there any insights that lead to negative growth? Justify with specific reason."
      ],
      "metadata": {
        "id": "PVzmfK_Ep1ck"
      }
    },
    {
      "cell_type": "markdown",
      "source": [
        "Answer Here"
      ],
      "metadata": {
        "id": "druuKYZpp1ck"
      }
    },
    {
      "cell_type": "markdown",
      "source": [
        "#### Chart - 12"
      ],
      "metadata": {
        "id": "n3dbpmDWp1ck"
      }
    },
    {
      "cell_type": "code",
      "source": [
        "# Chart - 12 visualization code"
      ],
      "metadata": {
        "id": "bwevp1tKp1ck"
      },
      "execution_count": null,
      "outputs": []
    },
    {
      "cell_type": "markdown",
      "source": [
        "##### 1. Why did you pick the specific chart?"
      ],
      "metadata": {
        "id": "ylSl6qgtp1ck"
      }
    },
    {
      "cell_type": "markdown",
      "source": [
        "Answer Here."
      ],
      "metadata": {
        "id": "m2xqNkiQp1ck"
      }
    },
    {
      "cell_type": "markdown",
      "source": [
        "##### 2. What is/are the insight(s) found from the chart?"
      ],
      "metadata": {
        "id": "ZWILFDl5p1ck"
      }
    },
    {
      "cell_type": "markdown",
      "source": [
        "Answer Here"
      ],
      "metadata": {
        "id": "x-lUsV2mp1ck"
      }
    },
    {
      "cell_type": "markdown",
      "source": [
        "##### 3. Will the gained insights help creating a positive business impact?\n",
        "Are there any insights that lead to negative growth? Justify with specific reason."
      ],
      "metadata": {
        "id": "M7G43BXep1ck"
      }
    },
    {
      "cell_type": "markdown",
      "source": [
        "Answer Here"
      ],
      "metadata": {
        "id": "5wwDJXsLp1cl"
      }
    },
    {
      "cell_type": "code",
      "source": [
        "df.columns"
      ],
      "metadata": {
        "id": "WM4v7OcTPr42"
      },
      "execution_count": null,
      "outputs": []
    },
    {
      "cell_type": "markdown",
      "source": [
        "#### Chart - 13"
      ],
      "metadata": {
        "id": "Ag9LCva-p1cl"
      }
    },
    {
      "cell_type": "code",
      "source": [
        "# Chart - 13 visualization code\n",
        "plt.scatter(df['Year'], df['casualities'])\n",
        "plt.title('Scatter Plot of reg vs Group')\n",
        "plt.xlabel('Year')\n",
        "plt.ylabel('casualities')\n",
        "plt.xticks(rotation = 70)\n",
        "plt.show()\n",
        "\n",
        "# Scatter plot of 'Installs' vs 'Rating'\n"
      ],
      "metadata": {
        "id": "EUfxeq9-p1cl"
      },
      "execution_count": null,
      "outputs": []
    },
    {
      "cell_type": "markdown",
      "source": [
        "##### 1. Why did you pick the specific chart?"
      ],
      "metadata": {
        "id": "E6MkPsBcp1cl"
      }
    },
    {
      "cell_type": "markdown",
      "source": [
        "Answer Here."
      ],
      "metadata": {
        "id": "V22bRsFWp1cl"
      }
    },
    {
      "cell_type": "markdown",
      "source": [
        "##### 2. What is/are the insight(s) found from the chart?"
      ],
      "metadata": {
        "id": "2cELzS2fp1cl"
      }
    },
    {
      "cell_type": "markdown",
      "source": [
        "Answer Here"
      ],
      "metadata": {
        "id": "ozQPc2_Ip1cl"
      }
    },
    {
      "cell_type": "markdown",
      "source": [
        "##### 3. Will the gained insights help creating a positive business impact?\n",
        "Are there any insights that lead to negative growth? Justify with specific reason."
      ],
      "metadata": {
        "id": "3MPXvC8up1cl"
      }
    },
    {
      "cell_type": "markdown",
      "source": [
        "Answer Here"
      ],
      "metadata": {
        "id": "GL8l1tdLp1cl"
      }
    },
    {
      "cell_type": "markdown",
      "source": [
        "#### Chart - 14 - Correlation Heatmap"
      ],
      "metadata": {
        "id": "NC_X3p0fY2L0"
      }
    },
    {
      "cell_type": "code",
      "source": [
        "# Correlation Heatmap visualization code"
      ],
      "metadata": {
        "id": "xyC9zolEZNRQ"
      },
      "execution_count": null,
      "outputs": []
    },
    {
      "cell_type": "markdown",
      "source": [
        "##### 1. Why did you pick the specific chart?"
      ],
      "metadata": {
        "id": "UV0SzAkaZNRQ"
      }
    },
    {
      "cell_type": "markdown",
      "source": [
        "Answer Here."
      ],
      "metadata": {
        "id": "DVPuT8LYZNRQ"
      }
    },
    {
      "cell_type": "markdown",
      "source": [
        "##### 2. What is/are the insight(s) found from the chart?"
      ],
      "metadata": {
        "id": "YPEH6qLeZNRQ"
      }
    },
    {
      "cell_type": "markdown",
      "source": [
        "Answer Here"
      ],
      "metadata": {
        "id": "bfSqtnDqZNRR"
      }
    },
    {
      "cell_type": "markdown",
      "source": [
        "#### Chart - 15 - Pair Plot"
      ],
      "metadata": {
        "id": "q29F0dvdveiT"
      }
    },
    {
      "cell_type": "code",
      "source": [
        "# Pair Plot visualization code"
      ],
      "metadata": {
        "id": "o58-TEIhveiU"
      },
      "execution_count": null,
      "outputs": []
    },
    {
      "cell_type": "markdown",
      "source": [
        "##### 1. Why did you pick the specific chart?"
      ],
      "metadata": {
        "id": "EXh0U9oCveiU"
      }
    },
    {
      "cell_type": "markdown",
      "source": [
        "Answer Here."
      ],
      "metadata": {
        "id": "eMmPjTByveiU"
      }
    },
    {
      "cell_type": "markdown",
      "source": [
        "##### 2. What is/are the insight(s) found from the chart?"
      ],
      "metadata": {
        "id": "22aHeOlLveiV"
      }
    },
    {
      "cell_type": "markdown",
      "source": [
        "Answer Here"
      ],
      "metadata": {
        "id": "uPQ8RGwHveiV"
      }
    },
    {
      "cell_type": "markdown",
      "source": [
        "## **5. Solution to Business Objective**"
      ],
      "metadata": {
        "id": "JcMwzZxoAimU"
      }
    },
    {
      "cell_type": "markdown",
      "source": [
        "#### What do you suggest the client to achieve Business Objective ?\n",
        "To achieve business objectives related to security and risk management, focus on targeted security measures, preventive strategies, risk assessment, public awareness, policy development, and technological integration. Use the insights from data analysis to inform these actions, ensuring a proactive and comprehensive approach to mitigating the impact of terrorism.\n"
      ],
      "metadata": {
        "id": "8G2x9gOozGDZ"
      }
    },
    {
      "cell_type": "markdown",
      "source": [
        "Answer Here."
      ],
      "metadata": {
        "id": "pASKb0qOza21"
      }
    },
    {
      "cell_type": "markdown",
      "source": [
        "# **Conclusion**"
      ],
      "metadata": {
        "id": "gCX9965dhzqZ"
      }
    },
    {
      "cell_type": "markdown",
      "source": [
        "The exploratory data analysis (EDA) conducted on terrorist attack data reveals significant insights that can inform strategic decision-making. By identifying high-risk regions, understanding attack patterns, and recognizing top target countries, stakeholders gain valuable information to enhance security measures and mitigate risks effectively. These insights also highlight the importance of international cooperation, data-driven decision-making, and policy development in combating terrorism. Overall, the EDA underscores the need for proactive measures, informed by data, to address the complex challenges posed by terrorism and protect lives and assets worldwide.\n"
      ],
      "metadata": {
        "id": "Fjb1IsQkh3yE"
      }
    },
    {
      "cell_type": "markdown",
      "source": [
        "### ***Hurrah! You have successfully completed your EDA Capstone Project !!!***"
      ],
      "metadata": {
        "id": "gIfDvo9L0UH2"
      }
    }
  ]
}